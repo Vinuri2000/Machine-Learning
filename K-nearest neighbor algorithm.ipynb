{
 "cells": [
  {
   "cell_type": "code",
   "execution_count": 1,
   "id": "18ad4b95",
   "metadata": {},
   "outputs": [],
   "source": [
    "#Importing all required libraries\n",
    "\n",
    "import pandas as pd\n",
    "from sklearn.model_selection import train_test_split\n",
    "from sklearn.impute import SimpleImputer \n",
    "from sklearn.neighbors import KNeighborsClassifier \n",
    "import numpy as np\n",
    "from sklearn import metrics\n",
    "from sklearn.metrics import accuracy_score\n",
    "import matplotlib.pyplot as plt"
   ]
  },
  {
   "cell_type": "code",
   "execution_count": 2,
   "id": "788dcb4b",
   "metadata": {},
   "outputs": [],
   "source": [
    "#Importing the data set\n",
    "\n",
    "df = pd.read_csv('Mobile_Dataset.csv')"
   ]
  },
  {
   "cell_type": "code",
   "execution_count": 3,
   "id": "2c2dd873",
   "metadata": {},
   "outputs": [
    {
     "data": {
      "text/plain": [
       "Index(['battery_power', 'blue', 'clock_speed', 'dual_sim', 'fc', 'four_g',\n",
       "       'int_memory', 'm_dep', 'mobile_wt', 'n_cores', 'pc', 'px_height',\n",
       "       'px_width', 'ram', 'sc_h', 'sc_w', 'talk_time', 'three_g',\n",
       "       'touch_screen', 'wifi', 'price_range'],\n",
       "      dtype='object')"
      ]
     },
     "execution_count": 3,
     "metadata": {},
     "output_type": "execute_result"
    }
   ],
   "source": [
    "#Display data columns\n",
    "\n",
    "df.columns"
   ]
  },
  {
   "cell_type": "code",
   "execution_count": 4,
   "id": "9802becb",
   "metadata": {},
   "outputs": [
    {
     "data": {
      "text/plain": [
       "(2000, 21)"
      ]
     },
     "execution_count": 4,
     "metadata": {},
     "output_type": "execute_result"
    }
   ],
   "source": [
    "#display the data table shape\n",
    "\n",
    "df.shape"
   ]
  },
  {
   "cell_type": "code",
   "execution_count": 5,
   "id": "23bd7ac1",
   "metadata": {},
   "outputs": [
    {
     "data": {
      "text/plain": [
       "battery_power      int64\n",
       "blue               int64\n",
       "clock_speed      float64\n",
       "dual_sim           int64\n",
       "fc                 int64\n",
       "four_g             int64\n",
       "int_memory         int64\n",
       "m_dep            float64\n",
       "mobile_wt          int64\n",
       "n_cores            int64\n",
       "pc                 int64\n",
       "px_height          int64\n",
       "px_width           int64\n",
       "ram                int64\n",
       "sc_h               int64\n",
       "sc_w               int64\n",
       "talk_time          int64\n",
       "three_g            int64\n",
       "touch_screen       int64\n",
       "wifi               int64\n",
       "price_range        int64\n",
       "dtype: object"
      ]
     },
     "execution_count": 5,
     "metadata": {},
     "output_type": "execute_result"
    }
   ],
   "source": [
    "#display data type of each column\n",
    "\n",
    "df.dtypes"
   ]
  },
  {
   "cell_type": "code",
   "execution_count": 6,
   "id": "26400d3a",
   "metadata": {},
   "outputs": [
    {
     "data": {
      "text/html": [
       "<div>\n",
       "<style scoped>\n",
       "    .dataframe tbody tr th:only-of-type {\n",
       "        vertical-align: middle;\n",
       "    }\n",
       "\n",
       "    .dataframe tbody tr th {\n",
       "        vertical-align: top;\n",
       "    }\n",
       "\n",
       "    .dataframe thead th {\n",
       "        text-align: right;\n",
       "    }\n",
       "</style>\n",
       "<table border=\"1\" class=\"dataframe\">\n",
       "  <thead>\n",
       "    <tr style=\"text-align: right;\">\n",
       "      <th></th>\n",
       "      <th>battery_power</th>\n",
       "      <th>blue</th>\n",
       "      <th>clock_speed</th>\n",
       "      <th>dual_sim</th>\n",
       "      <th>fc</th>\n",
       "      <th>four_g</th>\n",
       "      <th>int_memory</th>\n",
       "      <th>m_dep</th>\n",
       "      <th>mobile_wt</th>\n",
       "      <th>n_cores</th>\n",
       "      <th>...</th>\n",
       "      <th>px_height</th>\n",
       "      <th>px_width</th>\n",
       "      <th>ram</th>\n",
       "      <th>sc_h</th>\n",
       "      <th>sc_w</th>\n",
       "      <th>talk_time</th>\n",
       "      <th>three_g</th>\n",
       "      <th>touch_screen</th>\n",
       "      <th>wifi</th>\n",
       "      <th>price_range</th>\n",
       "    </tr>\n",
       "  </thead>\n",
       "  <tbody>\n",
       "    <tr>\n",
       "      <th>0</th>\n",
       "      <td>False</td>\n",
       "      <td>False</td>\n",
       "      <td>False</td>\n",
       "      <td>False</td>\n",
       "      <td>False</td>\n",
       "      <td>False</td>\n",
       "      <td>False</td>\n",
       "      <td>False</td>\n",
       "      <td>False</td>\n",
       "      <td>False</td>\n",
       "      <td>...</td>\n",
       "      <td>False</td>\n",
       "      <td>False</td>\n",
       "      <td>False</td>\n",
       "      <td>False</td>\n",
       "      <td>False</td>\n",
       "      <td>False</td>\n",
       "      <td>False</td>\n",
       "      <td>False</td>\n",
       "      <td>False</td>\n",
       "      <td>False</td>\n",
       "    </tr>\n",
       "    <tr>\n",
       "      <th>1</th>\n",
       "      <td>False</td>\n",
       "      <td>False</td>\n",
       "      <td>False</td>\n",
       "      <td>False</td>\n",
       "      <td>False</td>\n",
       "      <td>False</td>\n",
       "      <td>False</td>\n",
       "      <td>False</td>\n",
       "      <td>False</td>\n",
       "      <td>False</td>\n",
       "      <td>...</td>\n",
       "      <td>False</td>\n",
       "      <td>False</td>\n",
       "      <td>False</td>\n",
       "      <td>False</td>\n",
       "      <td>False</td>\n",
       "      <td>False</td>\n",
       "      <td>False</td>\n",
       "      <td>False</td>\n",
       "      <td>False</td>\n",
       "      <td>False</td>\n",
       "    </tr>\n",
       "    <tr>\n",
       "      <th>2</th>\n",
       "      <td>False</td>\n",
       "      <td>False</td>\n",
       "      <td>False</td>\n",
       "      <td>False</td>\n",
       "      <td>False</td>\n",
       "      <td>False</td>\n",
       "      <td>False</td>\n",
       "      <td>False</td>\n",
       "      <td>False</td>\n",
       "      <td>False</td>\n",
       "      <td>...</td>\n",
       "      <td>False</td>\n",
       "      <td>False</td>\n",
       "      <td>False</td>\n",
       "      <td>False</td>\n",
       "      <td>False</td>\n",
       "      <td>False</td>\n",
       "      <td>False</td>\n",
       "      <td>False</td>\n",
       "      <td>False</td>\n",
       "      <td>False</td>\n",
       "    </tr>\n",
       "    <tr>\n",
       "      <th>3</th>\n",
       "      <td>False</td>\n",
       "      <td>False</td>\n",
       "      <td>False</td>\n",
       "      <td>False</td>\n",
       "      <td>False</td>\n",
       "      <td>False</td>\n",
       "      <td>False</td>\n",
       "      <td>False</td>\n",
       "      <td>False</td>\n",
       "      <td>False</td>\n",
       "      <td>...</td>\n",
       "      <td>False</td>\n",
       "      <td>False</td>\n",
       "      <td>False</td>\n",
       "      <td>False</td>\n",
       "      <td>False</td>\n",
       "      <td>False</td>\n",
       "      <td>False</td>\n",
       "      <td>False</td>\n",
       "      <td>False</td>\n",
       "      <td>False</td>\n",
       "    </tr>\n",
       "    <tr>\n",
       "      <th>4</th>\n",
       "      <td>False</td>\n",
       "      <td>False</td>\n",
       "      <td>False</td>\n",
       "      <td>False</td>\n",
       "      <td>False</td>\n",
       "      <td>False</td>\n",
       "      <td>False</td>\n",
       "      <td>False</td>\n",
       "      <td>False</td>\n",
       "      <td>False</td>\n",
       "      <td>...</td>\n",
       "      <td>False</td>\n",
       "      <td>False</td>\n",
       "      <td>False</td>\n",
       "      <td>False</td>\n",
       "      <td>False</td>\n",
       "      <td>False</td>\n",
       "      <td>False</td>\n",
       "      <td>False</td>\n",
       "      <td>False</td>\n",
       "      <td>False</td>\n",
       "    </tr>\n",
       "    <tr>\n",
       "      <th>...</th>\n",
       "      <td>...</td>\n",
       "      <td>...</td>\n",
       "      <td>...</td>\n",
       "      <td>...</td>\n",
       "      <td>...</td>\n",
       "      <td>...</td>\n",
       "      <td>...</td>\n",
       "      <td>...</td>\n",
       "      <td>...</td>\n",
       "      <td>...</td>\n",
       "      <td>...</td>\n",
       "      <td>...</td>\n",
       "      <td>...</td>\n",
       "      <td>...</td>\n",
       "      <td>...</td>\n",
       "      <td>...</td>\n",
       "      <td>...</td>\n",
       "      <td>...</td>\n",
       "      <td>...</td>\n",
       "      <td>...</td>\n",
       "      <td>...</td>\n",
       "    </tr>\n",
       "    <tr>\n",
       "      <th>1995</th>\n",
       "      <td>False</td>\n",
       "      <td>False</td>\n",
       "      <td>False</td>\n",
       "      <td>False</td>\n",
       "      <td>False</td>\n",
       "      <td>False</td>\n",
       "      <td>False</td>\n",
       "      <td>False</td>\n",
       "      <td>False</td>\n",
       "      <td>False</td>\n",
       "      <td>...</td>\n",
       "      <td>False</td>\n",
       "      <td>False</td>\n",
       "      <td>False</td>\n",
       "      <td>False</td>\n",
       "      <td>False</td>\n",
       "      <td>False</td>\n",
       "      <td>False</td>\n",
       "      <td>False</td>\n",
       "      <td>False</td>\n",
       "      <td>False</td>\n",
       "    </tr>\n",
       "    <tr>\n",
       "      <th>1996</th>\n",
       "      <td>False</td>\n",
       "      <td>False</td>\n",
       "      <td>False</td>\n",
       "      <td>False</td>\n",
       "      <td>False</td>\n",
       "      <td>False</td>\n",
       "      <td>False</td>\n",
       "      <td>False</td>\n",
       "      <td>False</td>\n",
       "      <td>False</td>\n",
       "      <td>...</td>\n",
       "      <td>False</td>\n",
       "      <td>False</td>\n",
       "      <td>False</td>\n",
       "      <td>False</td>\n",
       "      <td>False</td>\n",
       "      <td>False</td>\n",
       "      <td>False</td>\n",
       "      <td>False</td>\n",
       "      <td>False</td>\n",
       "      <td>False</td>\n",
       "    </tr>\n",
       "    <tr>\n",
       "      <th>1997</th>\n",
       "      <td>False</td>\n",
       "      <td>False</td>\n",
       "      <td>False</td>\n",
       "      <td>False</td>\n",
       "      <td>False</td>\n",
       "      <td>False</td>\n",
       "      <td>False</td>\n",
       "      <td>False</td>\n",
       "      <td>False</td>\n",
       "      <td>False</td>\n",
       "      <td>...</td>\n",
       "      <td>False</td>\n",
       "      <td>False</td>\n",
       "      <td>False</td>\n",
       "      <td>False</td>\n",
       "      <td>False</td>\n",
       "      <td>False</td>\n",
       "      <td>False</td>\n",
       "      <td>False</td>\n",
       "      <td>False</td>\n",
       "      <td>False</td>\n",
       "    </tr>\n",
       "    <tr>\n",
       "      <th>1998</th>\n",
       "      <td>False</td>\n",
       "      <td>False</td>\n",
       "      <td>False</td>\n",
       "      <td>False</td>\n",
       "      <td>False</td>\n",
       "      <td>False</td>\n",
       "      <td>False</td>\n",
       "      <td>False</td>\n",
       "      <td>False</td>\n",
       "      <td>False</td>\n",
       "      <td>...</td>\n",
       "      <td>False</td>\n",
       "      <td>False</td>\n",
       "      <td>False</td>\n",
       "      <td>False</td>\n",
       "      <td>False</td>\n",
       "      <td>False</td>\n",
       "      <td>False</td>\n",
       "      <td>False</td>\n",
       "      <td>False</td>\n",
       "      <td>False</td>\n",
       "    </tr>\n",
       "    <tr>\n",
       "      <th>1999</th>\n",
       "      <td>False</td>\n",
       "      <td>False</td>\n",
       "      <td>False</td>\n",
       "      <td>False</td>\n",
       "      <td>False</td>\n",
       "      <td>False</td>\n",
       "      <td>False</td>\n",
       "      <td>False</td>\n",
       "      <td>False</td>\n",
       "      <td>False</td>\n",
       "      <td>...</td>\n",
       "      <td>False</td>\n",
       "      <td>False</td>\n",
       "      <td>False</td>\n",
       "      <td>False</td>\n",
       "      <td>False</td>\n",
       "      <td>False</td>\n",
       "      <td>False</td>\n",
       "      <td>False</td>\n",
       "      <td>False</td>\n",
       "      <td>False</td>\n",
       "    </tr>\n",
       "  </tbody>\n",
       "</table>\n",
       "<p>2000 rows × 21 columns</p>\n",
       "</div>"
      ],
      "text/plain": [
       "      battery_power   blue  clock_speed  dual_sim     fc  four_g  int_memory  \\\n",
       "0             False  False        False     False  False   False       False   \n",
       "1             False  False        False     False  False   False       False   \n",
       "2             False  False        False     False  False   False       False   \n",
       "3             False  False        False     False  False   False       False   \n",
       "4             False  False        False     False  False   False       False   \n",
       "...             ...    ...          ...       ...    ...     ...         ...   \n",
       "1995          False  False        False     False  False   False       False   \n",
       "1996          False  False        False     False  False   False       False   \n",
       "1997          False  False        False     False  False   False       False   \n",
       "1998          False  False        False     False  False   False       False   \n",
       "1999          False  False        False     False  False   False       False   \n",
       "\n",
       "      m_dep  mobile_wt  n_cores  ...  px_height  px_width    ram   sc_h  \\\n",
       "0     False      False    False  ...      False     False  False  False   \n",
       "1     False      False    False  ...      False     False  False  False   \n",
       "2     False      False    False  ...      False     False  False  False   \n",
       "3     False      False    False  ...      False     False  False  False   \n",
       "4     False      False    False  ...      False     False  False  False   \n",
       "...     ...        ...      ...  ...        ...       ...    ...    ...   \n",
       "1995  False      False    False  ...      False     False  False  False   \n",
       "1996  False      False    False  ...      False     False  False  False   \n",
       "1997  False      False    False  ...      False     False  False  False   \n",
       "1998  False      False    False  ...      False     False  False  False   \n",
       "1999  False      False    False  ...      False     False  False  False   \n",
       "\n",
       "       sc_w  talk_time  three_g  touch_screen   wifi  price_range  \n",
       "0     False      False    False         False  False        False  \n",
       "1     False      False    False         False  False        False  \n",
       "2     False      False    False         False  False        False  \n",
       "3     False      False    False         False  False        False  \n",
       "4     False      False    False         False  False        False  \n",
       "...     ...        ...      ...           ...    ...          ...  \n",
       "1995  False      False    False         False  False        False  \n",
       "1996  False      False    False         False  False        False  \n",
       "1997  False      False    False         False  False        False  \n",
       "1998  False      False    False         False  False        False  \n",
       "1999  False      False    False         False  False        False  \n",
       "\n",
       "[2000 rows x 21 columns]"
      ]
     },
     "execution_count": 6,
     "metadata": {},
     "output_type": "execute_result"
    }
   ],
   "source": [
    "#Checking for null values in each data entry\n",
    "\n",
    "df.isnull()"
   ]
  },
  {
   "cell_type": "code",
   "execution_count": 7,
   "id": "c74ead52",
   "metadata": {},
   "outputs": [
    {
     "data": {
      "text/plain": [
       "battery_power    0\n",
       "blue             0\n",
       "clock_speed      0\n",
       "dual_sim         0\n",
       "fc               0\n",
       "four_g           0\n",
       "int_memory       0\n",
       "m_dep            0\n",
       "mobile_wt        0\n",
       "n_cores          0\n",
       "pc               0\n",
       "px_height        0\n",
       "px_width         0\n",
       "ram              0\n",
       "sc_h             0\n",
       "sc_w             0\n",
       "talk_time        0\n",
       "three_g          0\n",
       "touch_screen     0\n",
       "wifi             0\n",
       "price_range      0\n",
       "dtype: int64"
      ]
     },
     "execution_count": 7,
     "metadata": {},
     "output_type": "execute_result"
    }
   ],
   "source": [
    "#Obtaining the total number of cells with null values in each column\n",
    "\n",
    "df.isnull().sum()"
   ]
  },
  {
   "cell_type": "code",
   "execution_count": 8,
   "id": "d590aa03",
   "metadata": {},
   "outputs": [
    {
     "name": "stdout",
     "output_type": "stream",
     "text": [
      "       battery_power       blue  clock_speed     dual_sim           fc  \\\n",
      "count    2000.000000  2000.0000  2000.000000  2000.000000  2000.000000   \n",
      "mean     1238.518500     0.4950     1.522250     0.509500     4.309500   \n",
      "std       439.418206     0.5001     0.816004     0.500035     4.341444   \n",
      "min       501.000000     0.0000     0.500000     0.000000     0.000000   \n",
      "25%       851.750000     0.0000     0.700000     0.000000     1.000000   \n",
      "50%      1226.000000     0.0000     1.500000     1.000000     3.000000   \n",
      "75%      1615.250000     1.0000     2.200000     1.000000     7.000000   \n",
      "max      1998.000000     1.0000     3.000000     1.000000    19.000000   \n",
      "\n",
      "            four_g   int_memory        m_dep    mobile_wt      n_cores  ...  \\\n",
      "count  2000.000000  2000.000000  2000.000000  2000.000000  2000.000000  ...   \n",
      "mean      0.521500    32.046500     0.501750   140.249000     4.520500  ...   \n",
      "std       0.499662    18.145715     0.288416    35.399655     2.287837  ...   \n",
      "min       0.000000     2.000000     0.100000    80.000000     1.000000  ...   \n",
      "25%       0.000000    16.000000     0.200000   109.000000     3.000000  ...   \n",
      "50%       1.000000    32.000000     0.500000   141.000000     4.000000  ...   \n",
      "75%       1.000000    48.000000     0.800000   170.000000     7.000000  ...   \n",
      "max       1.000000    64.000000     1.000000   200.000000     8.000000  ...   \n",
      "\n",
      "         px_height     px_width          ram         sc_h         sc_w  \\\n",
      "count  2000.000000  2000.000000  2000.000000  2000.000000  2000.000000   \n",
      "mean    645.108000  1251.515500  2124.213000    12.306500     5.767000   \n",
      "std     443.780811   432.199447  1084.732044     4.213245     4.356398   \n",
      "min       0.000000   500.000000   256.000000     5.000000     0.000000   \n",
      "25%     282.750000   874.750000  1207.500000     9.000000     2.000000   \n",
      "50%     564.000000  1247.000000  2146.500000    12.000000     5.000000   \n",
      "75%     947.250000  1633.000000  3064.500000    16.000000     9.000000   \n",
      "max    1960.000000  1998.000000  3998.000000    19.000000    18.000000   \n",
      "\n",
      "         talk_time      three_g  touch_screen         wifi  price_range  \n",
      "count  2000.000000  2000.000000   2000.000000  2000.000000  2000.000000  \n",
      "mean     11.011000     0.761500      0.503000     0.507000     1.500000  \n",
      "std       5.463955     0.426273      0.500116     0.500076     1.118314  \n",
      "min       2.000000     0.000000      0.000000     0.000000     0.000000  \n",
      "25%       6.000000     1.000000      0.000000     0.000000     0.750000  \n",
      "50%      11.000000     1.000000      1.000000     1.000000     1.500000  \n",
      "75%      16.000000     1.000000      1.000000     1.000000     2.250000  \n",
      "max      20.000000     1.000000      1.000000     1.000000     3.000000  \n",
      "\n",
      "[8 rows x 21 columns]\n"
     ]
    }
   ],
   "source": [
    "#Analyzing the dataset\n",
    "\n",
    "analysis = df.describe()\n",
    "print(analysis)"
   ]
  },
  {
   "cell_type": "code",
   "execution_count": 9,
   "id": "0c5af8ee",
   "metadata": {},
   "outputs": [
    {
     "name": "stdout",
     "output_type": "stream",
     "text": [
      "[[8.420e+02 0.000e+00 2.200e+00 ... 0.000e+00 1.000e+00 1.000e+00]\n",
      " [1.021e+03 1.000e+00 5.000e-01 ... 1.000e+00 0.000e+00 2.000e+00]\n",
      " [5.630e+02 1.000e+00 5.000e-01 ... 1.000e+00 0.000e+00 2.000e+00]\n",
      " ...\n",
      " [1.911e+03 0.000e+00 9.000e-01 ... 1.000e+00 0.000e+00 3.000e+00]\n",
      " [1.512e+03 0.000e+00 9.000e-01 ... 1.000e+00 1.000e+00 0.000e+00]\n",
      " [5.100e+02 1.000e+00 2.000e+00 ... 1.000e+00 1.000e+00 3.000e+00]]\n"
     ]
    }
   ],
   "source": [
    "#Converting data entries into values\n",
    "\n",
    "dataset = df.values\n",
    "print(dataset)"
   ]
  },
  {
   "cell_type": "code",
   "execution_count": 10,
   "id": "84b63104",
   "metadata": {},
   "outputs": [
    {
     "name": "stdout",
     "output_type": "stream",
     "text": [
      "[[8.420e+02 0.000e+00 2.200e+00 ... 0.000e+00 1.000e+00 1.000e+00]\n",
      " [1.021e+03 1.000e+00 5.000e-01 ... 1.000e+00 0.000e+00 2.000e+00]\n",
      " [5.630e+02 1.000e+00 5.000e-01 ... 1.000e+00 0.000e+00 2.000e+00]\n",
      " ...\n",
      " [1.911e+03 0.000e+00 9.000e-01 ... 1.000e+00 0.000e+00 3.000e+00]\n",
      " [1.512e+03 0.000e+00 9.000e-01 ... 1.000e+00 1.000e+00 0.000e+00]\n",
      " [5.100e+02 1.000e+00 2.000e+00 ... 1.000e+00 1.000e+00 3.000e+00]]\n"
     ]
    }
   ],
   "source": [
    "#Imputation of missing values\n",
    "#The missing values(Null values and nonnumeric values) are replaced with the mean value of the specific column \n",
    "\n",
    "imputer = SimpleImputer(missing_values=np.nan, strategy='mean')\n",
    "imputer.fit(dataset)\n",
    "print(dataset)"
   ]
  },
  {
   "cell_type": "code",
   "execution_count": 11,
   "id": "7a4d421f",
   "metadata": {},
   "outputs": [
    {
     "name": "stdout",
     "output_type": "stream",
     "text": [
      "[[8.420e+02 0.000e+00 2.200e+00 ... 0.000e+00 1.000e+00 1.000e+00]\n",
      " [1.021e+03 1.000e+00 5.000e-01 ... 1.000e+00 0.000e+00 2.000e+00]\n",
      " [5.630e+02 1.000e+00 5.000e-01 ... 1.000e+00 0.000e+00 2.000e+00]\n",
      " ...\n",
      " [1.911e+03 0.000e+00 9.000e-01 ... 1.000e+00 0.000e+00 3.000e+00]\n",
      " [1.512e+03 0.000e+00 9.000e-01 ... 1.000e+00 1.000e+00 0.000e+00]\n",
      " [5.100e+02 1.000e+00 2.000e+00 ... 1.000e+00 1.000e+00 3.000e+00]]\n"
     ]
    }
   ],
   "source": [
    "#Discrete optimization using casting inputs\n",
    "\n",
    "dataset = dataset.astype('float32')\n",
    "print(dataset)"
   ]
  },
  {
   "cell_type": "code",
   "execution_count": 12,
   "id": "e7790a06",
   "metadata": {},
   "outputs": [],
   "source": [
    "#Defining input features (X) and predicting features (Y) \n",
    "x = dataset[:,0:20]\n",
    "y = dataset[:,20]"
   ]
  },
  {
   "cell_type": "code",
   "execution_count": 13,
   "id": "b0f5045e",
   "metadata": {},
   "outputs": [
    {
     "name": "stdout",
     "output_type": "stream",
     "text": [
      "x_train shape =  (1600, 20) y_train shape =  (1600,)\n",
      "x_test shape =  (400, 20) y_test shape =  (400,)\n"
     ]
    }
   ],
   "source": [
    "#Splitting the data set into training data set and test data set. 80% as the training data set and 20% as the test data set. \n",
    "x_train, x_test, y_train, y_test = train_test_split(x, y, test_size=0.2, random_state=None, stratify = y)\n",
    "\n",
    "print (\"x_train shape = \", x_train.shape, \"y_train shape = \", y_train.shape)\n",
    "print (\"x_test shape = \", x_test.shape, \"y_test shape = \", y_test.shape)"
   ]
  },
  {
   "cell_type": "code",
   "execution_count": 14,
   "id": "de550993",
   "metadata": {},
   "outputs": [
    {
     "data": {
      "text/plain": [
       "KNeighborsClassifier(n_neighbors=11)"
      ]
     },
     "execution_count": 14,
     "metadata": {},
     "output_type": "execute_result"
    }
   ],
   "source": [
    "#Computing KNN for k=11 \n",
    "\n",
    "knn = KNeighborsClassifier(n_neighbors=11) \n",
    "knn.fit(x_train,y_train)"
   ]
  },
  {
   "cell_type": "code",
   "execution_count": 15,
   "id": "71237e3f",
   "metadata": {},
   "outputs": [
    {
     "name": "stdout",
     "output_type": "stream",
     "text": [
      "0.9475\n"
     ]
    }
   ],
   "source": [
    "#Determining the accuracy score for k=11\n",
    "\n",
    "y_predictions = knn.predict(x_test)\n",
    "acc_score = accuracy_score(y_test,y_predictions)\n",
    "print(acc_score)"
   ]
  },
  {
   "cell_type": "code",
   "execution_count": 16,
   "id": "d7277123",
   "metadata": {},
   "outputs": [
    {
     "name": "stdout",
     "output_type": "stream",
     "text": [
      "[[97  3  0  0]\n",
      " [ 2 97  1  0]\n",
      " [ 0  7 90  3]\n",
      " [ 0  0  5 95]]\n"
     ]
    }
   ],
   "source": [
    "#Determining the confusion matrix\n",
    "\n",
    "confusionMatrix = metrics.confusion_matrix(y_test,y_predictions)\n",
    "print(confusionMatrix)"
   ]
  },
  {
   "cell_type": "code",
   "execution_count": 17,
   "id": "076b856e",
   "metadata": {},
   "outputs": [
    {
     "data": {
      "image/png": "[encoded data removed]",
      "text/plain": [
       "<Figure size 640x480 with 2 Axes>"
      ]
     },
     "metadata": {},
     "output_type": "display_data"
    }
   ],
   "source": [
    "#Plotting the confusion matrix\n",
    "\n",
    "confusion_matrix = metrics.confusion_matrix(y_test,y_predictions)\n",
    "cm_display = metrics.ConfusionMatrixDisplay(confusion_matrix = confusion_matrix, display_labels = [1,2,3,4])\n",
    "cm_display.plot()\n",
    "plt.show()"
   ]
  },
  {
   "cell_type": "code",
   "execution_count": 18,
   "id": "1a33e5c5",
   "metadata": {},
   "outputs": [],
   "source": [
    "#Finding the best k value\n",
    "\n",
    "k_Range = 31\n",
    "error_rate = []\n",
    "for i in range(1,k_Range):\n",
    "    knn = KNeighborsClassifier(n_neighbors=i)\n",
    "    knn.fit(x_train,y_train)\n",
    "    predict_i = knn.predict(x_test)\n",
    "    error_rate.append(np.mean(predict_i != y_test))"
   ]
  },
  {
   "cell_type": "code",
   "execution_count": 19,
   "id": "b78372f3",
   "metadata": {},
   "outputs": [
    {
     "data": {
      "image/png": "[encoded data removed]",
      "text/plain": [
       "<Figure size 1000x600 with 1 Axes>"
      ]
     },
     "metadata": {},
     "output_type": "display_data"
    },
    {
     "name": "stdout",
     "output_type": "stream",
     "text": [
      "Minimum error:- 0.0475 at K = 19\n"
     ]
    }
   ],
   "source": [
    "#plotting the error rate vs k graph to identify the best k\n",
    "\n",
    "plt.figure(figsize=(10,6))\n",
    "plt.plot(range(1,(k_Range)),error_rate,marker=\"o\",markerfacecolor=\"red\",\n",
    "         linestyle=\"dashed\",color=\"blue\",markersize=5)\n",
    "plt.title(\"Error rate vs k value\",fontsize=15)\n",
    "plt.xlabel(\"k- values\",fontsize=10)\n",
    "plt.ylabel(\"error rate\",fontsize=10)\n",
    "plt.xticks(range(1,(k_Range)))\n",
    "plt.show()\n",
    "\n",
    "best_k_value = error_rate.index(min(error_rate))+1\n",
    "print(\"Minimum error:-\",min(error_rate),\"at K =\",best_k_value)"
   ]
  },
  {
   "cell_type": "code",
   "execution_count": 20,
   "id": "bd465117",
   "metadata": {},
   "outputs": [
    {
     "data": {
      "text/plain": [
       "KNeighborsClassifier(n_neighbors=19)"
      ]
     },
     "execution_count": 20,
     "metadata": {},
     "output_type": "execute_result"
    }
   ],
   "source": [
    "#Reapplying KNN algorithm on the determined best K value\n",
    "\n",
    "model_knn = KNeighborsClassifier(n_neighbors=best_k_value)  \n",
    "model_knn.fit(x_train, y_train)  "
   ]
  },
  {
   "cell_type": "code",
   "execution_count": 21,
   "id": "2e345ff1",
   "metadata": {},
   "outputs": [
    {
     "name": "stdout",
     "output_type": "stream",
     "text": [
      "0.9275\n"
     ]
    }
   ],
   "source": [
    "#Determining the accuracy score for k=the best k value\n",
    "\n",
    "y_predictions = knn.predict(x_test)\n",
    "acc_score = accuracy_score(y_test,y_predictions)\n",
    "print(acc_score)"
   ]
  },
  {
   "cell_type": "code",
   "execution_count": 22,
   "id": "a59f6752",
   "metadata": {},
   "outputs": [
    {
     "name": "stdout",
     "output_type": "stream",
     "text": [
      "[[96  4  0  0]\n",
      " [ 5 93  2  0]\n",
      " [ 0 11 88  1]\n",
      " [ 0  0  6 94]]\n"
     ]
    }
   ],
   "source": [
    "#Determining the confusion matrix for the best k value\n",
    "\n",
    "confusionMatrix = metrics.confusion_matrix(y_test,y_predictions)\n",
    "print(confusionMatrix)"
   ]
  },
  {
   "cell_type": "code",
   "execution_count": 23,
   "id": "7a94026a",
   "metadata": {},
   "outputs": [
    {
     "data": {
      "image/png": "[encoded data removed]",
      "text/plain": [
       "<Figure size 640x480 with 2 Axes>"
      ]
     },
     "metadata": {},
     "output_type": "display_data"
    }
   ],
   "source": [
    "#Plotting the confusion matrix for the best k value\n",
    "\n",
    "confusion_matrix = metrics.confusion_matrix(y_test,y_predictions)\n",
    "cm_display = metrics.ConfusionMatrixDisplay(confusion_matrix = confusion_matrix, display_labels = [1,2,3,4])\n",
    "cm_display.plot()\n",
    "plt.show()"
   ]
  }
 ],
 "metadata": {
  "kernelspec": {
   "display_name": "Python 3 (ipykernel)",
   "language": "python",
   "name": "python3"
  },
  "language_info": {
   "codemirror_mode": {
    "name": "ipython",
    "version": 3
   },
   "file_extension": ".py",
   "mimetype": "text/x-python",
   "name": "python",
   "nbconvert_exporter": "python",
   "pygments_lexer": "ipython3",
   "version": "3.9.13"
  }
 },
 "nbformat": 4,
 "nbformat_minor": 5
}
